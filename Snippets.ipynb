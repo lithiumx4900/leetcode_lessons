{
 "cells": [
  {
   "cell_type": "code",
   "execution_count": 32,
   "id": "61fe6cdf-379f-423e-98db-b2df18d87b73",
   "metadata": {},
   "outputs": [
    {
     "name": "stdout",
     "output_type": "stream",
     "text": [
      "sorted [3, 4, 5, 6, 7, 8, 9, 9]\n",
      "2\n"
     ]
    }
   ],
   "source": [
    "# binary search\n",
    "\n",
    "arr = [8, 6, 7, 5, 3, 4, 9, 9]\n",
    "\n",
    "arr.sort() # or sorted(arr)\n",
    "print('sorted', arr)\n",
    "\n",
    "left, right = 0, len(arr)\n",
    "\n",
    "target = 5\n",
    "\n",
    "# binary search\n",
    "while left < right:\n",
    "    mid = (left + right) // 2\n",
    "    if arr[mid] <= target:\n",
    "        left = mid + 1\n",
    "    else:\n",
    "        right = mid\n",
    "        \n",
    "print(-1 if right == 0 else right-1)"
   ]
  },
  {
   "cell_type": "code",
   "execution_count": null,
   "id": "8856e50a-e6aa-470c-9eae-9c93d8b8d76d",
   "metadata": {},
   "outputs": [],
   "source": [
    "# questions from group about binary search\n"
   ]
  },
  {
   "cell_type": "code",
   "execution_count": 18,
   "id": "a3a7b229-1e66-4a63-9317-aa95f0e62423",
   "metadata": {},
   "outputs": [
    {
     "name": "stdout",
     "output_type": "stream",
     "text": [
      "[0, 0, 0, 0, 0, 0, 0, 0, 0, 0]\n",
      "[0, 0, 0, 0, 0, 0, 0, 0, 0, 0]\n",
      "[0, 0, 0, 0, 0, 0, 0, 0, 0, 0]\n",
      "[0, 0, 0, 0, 0, 0, 0, 0, 0, 0]\n",
      "[0, 0, 0, 0, 0, 0, 0, 0, 0, 0]\n",
      "[0, 0, 0, 0, 0, 0, 0, 0, 0, 0]\n",
      "[0, 0, 0, 0, 0, 0, 0, 0, 0, 0]\n",
      "[0, 0, 0, 0, 0, 0, 0, 0, 0, 0]\n",
      "[0, 0, 0, 0, 0, 0, 0, 0, 0, 0]\n",
      "[0, 0, 0, 0, 0, 0, 0, 0, 0, 0]\n"
     ]
    }
   ],
   "source": [
    "# list comprehensions\n",
    "\n",
    "TwoD_arr = [[0 for _ in range(10)] for _ in range(10)]\n",
    "\n",
    "for row in TwoD_arr:\n",
    "    print(row)\n",
    "    "
   ]
  },
  {
   "cell_type": "code",
   "execution_count": 21,
   "id": "e8112b58-908b-46e7-9bf9-13d20852fab0",
   "metadata": {},
   "outputs": [
    {
     "data": {
      "text/plain": [
       "[0, 0, 0, 5, 0, 0, 0, 0, 0, 0]"
      ]
     },
     "execution_count": 21,
     "metadata": {},
     "output_type": "execute_result"
    }
   ],
   "source": [
    "OneD_arr = [0] * 10\n",
    "OneD_arr[3] = 5\n",
    "OneD_arr\n"
   ]
  },
  {
   "cell_type": "code",
   "execution_count": 23,
   "id": "9aa2650d-a47e-441f-ae99-b217de75ca10",
   "metadata": {},
   "outputs": [
    {
     "name": "stdout",
     "output_type": "stream",
     "text": [
      "[0, 0, 1, 0, 0, 0, 0, 0, 0, 0]\n",
      "[0, 0, 1, 0, 0, 0, 0, 0, 0, 0]\n",
      "[0, 0, 1, 0, 0, 0, 0, 0, 0, 0]\n",
      "[0, 0, 1, 0, 0, 0, 0, 0, 0, 0]\n",
      "[0, 0, 1, 0, 0, 0, 0, 0, 0, 0]\n",
      "[0, 0, 1, 0, 0, 0, 0, 0, 0, 0]\n",
      "[0, 0, 1, 0, 0, 0, 0, 0, 0, 0]\n",
      "[0, 0, 1, 0, 0, 0, 0, 0, 0, 0]\n",
      "[0, 0, 1, 0, 0, 0, 0, 0, 0, 0]\n",
      "[0, 0, 1, 0, 0, 0, 0, 0, 0, 0]\n"
     ]
    }
   ],
   "source": [
    "# but don't do this...\n",
    "x = [[0] * 10] * 10\n",
    "\n",
    "# because every column will be a reference to all rows. \n",
    "x[1][2] = 1\n",
    "for row in x:\n",
    "    print(row)"
   ]
  },
  {
   "cell_type": "code",
   "execution_count": 25,
   "id": "610ec305-f6dd-4c69-9465-6f155a2d33a0",
   "metadata": {},
   "outputs": [
    {
     "data": {
      "text/plain": [
       "Counter({'d': 4, 'a': 2, 'b': 1, 'c': 1})"
      ]
     },
     "execution_count": 25,
     "metadata": {},
     "output_type": "execute_result"
    }
   ],
   "source": [
    "# Counters\n",
    "from collections import Counter\n",
    "\n",
    "x = ['a', 'a', 'b', 'c', 'd', 'd', 'd', 'd'] # Wow that's a lot of d\n",
    "\n",
    "c = Counter(x)\n",
    "c"
   ]
  },
  {
   "cell_type": "code",
   "execution_count": 27,
   "id": "d4eff131-5d18-4d4e-b19c-c75c4e9cb9e2",
   "metadata": {},
   "outputs": [
    {
     "data": {
      "text/plain": [
       "['a', 'b', 'c', 'd']"
      ]
     },
     "execution_count": 27,
     "metadata": {},
     "output_type": "execute_result"
    }
   ],
   "source": [
    "# Get uniques\n",
    "\n",
    "list(c.keys())"
   ]
  },
  {
   "cell_type": "code",
   "execution_count": 28,
   "id": "9f373125-2ec8-4788-b62a-969646717b3d",
   "metadata": {},
   "outputs": [
    {
     "data": {
      "text/plain": [
       "['d', 'b', 'a', 'c']"
      ]
     },
     "execution_count": 28,
     "metadata": {},
     "output_type": "execute_result"
    }
   ],
   "source": [
    "# another way to get uniques\n",
    "list(set(x))"
   ]
  },
  {
   "cell_type": "code",
   "execution_count": 30,
   "id": "b2bb15f2-243d-4239-8cbd-9d6d9fa0152f",
   "metadata": {},
   "outputs": [
    {
     "data": {
      "text/plain": [
       "defaultdict(list, {'a': [47]})"
      ]
     },
     "execution_count": 30,
     "metadata": {},
     "output_type": "execute_result"
    }
   ],
   "source": [
    "from collections import defaultdict\n",
    "\n",
    "x = defaultdict(list)\n",
    "\n",
    "# no need to create a list. defaultdict creates one if one does not exist\n",
    "x['a'].append(47)\n",
    "\n",
    "x"
   ]
  }
 ],
 "metadata": {
  "kernelspec": {
   "display_name": "Python 3 (ipykernel)",
   "language": "python",
   "name": "python3"
  },
  "language_info": {
   "codemirror_mode": {
    "name": "ipython",
    "version": 3
   },
   "file_extension": ".py",
   "mimetype": "text/x-python",
   "name": "python",
   "nbconvert_exporter": "python",
   "pygments_lexer": "ipython3",
   "version": "3.12.3"
  }
 },
 "nbformat": 4,
 "nbformat_minor": 5
}
