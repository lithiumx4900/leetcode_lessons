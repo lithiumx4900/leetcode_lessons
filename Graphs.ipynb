{
 "cells": [
  {
   "cell_type": "code",
   "execution_count": null,
   "id": "100fd058-ab46-4927-a17b-1740b2691ad0",
   "metadata": {},
   "outputs": [],
   "source": [
    "# Representation of a graph"
   ]
  },
  {
   "cell_type": "code",
   "execution_count": 63,
   "id": "15269f02-1a06-44db-8e11-17ac545971b9",
   "metadata": {},
   "outputs": [
    {
     "data": {
      "text/plain": [
       "defaultdict(list,\n",
       "            {0: [(1, 2), (2, 6)], 1: [(1, 2), (2, 3)], 2: [(2, 3), (2, 6)]})"
      ]
     },
     "execution_count": 63,
     "metadata": {},
     "output_type": "execute_result"
    }
   ],
   "source": [
    "from collections import defaultdict\n",
    "\n",
    "\n",
    "graph = defaultdict(list)\n",
    "\n",
    "edges = [[0,1],[1,2],[0,2]]\n",
    "weights = [2, 3, 6]\n",
    "\n",
    "for i, (u, v) in enumerate(edges):\n",
    "    graph[u].append((v, weights[i]))\n",
    "    graph[v].append((v, weights[i]))\n",
    "        \n",
    "graph"
   ]
  },
  {
   "cell_type": "code",
   "execution_count": 69,
   "id": "8d805b16-b7f9-442d-9264-dfa7f1bc6ea7",
   "metadata": {},
   "outputs": [
    {
     "data": {
      "text/plain": [
       "3"
      ]
     },
     "execution_count": 69,
     "metadata": {},
     "output_type": "execute_result"
    }
   ],
   "source": [
    "# from the leetcode problem https://leetcode.com/problems/network-delay-time/\n",
    "from collections import defaultdict\n",
    "from heapq import heappush, heappop\n",
    "from typing import List\n",
    "\n",
    "class Solution:\n",
    "    def networkDelayTime(self, times: List[List[int]], n: int, k: int) -> int:\n",
    "        graph = defaultdict(list)\n",
    "\n",
    "        for u, v, w in times:\n",
    "            graph[u].append((w, v))\n",
    "        \n",
    "        pq = [(0, k)] # the start node has a 0\n",
    "        seen = set()\n",
    "        while pq:\n",
    "            weight, node = heappop(pq)\n",
    "            seen.add(node)\n",
    "            \n",
    "            if len(seen) == n: \n",
    "                return weight\n",
    "            \n",
    "            for node_weight, next_node in graph[node]:\n",
    "                if next_node not in seen: # in regular dijkstra, you do not visit the node multiple times like in all pairs shortest path\n",
    "                    heappush(pq, (weight + node_weight, next_node)) # by default, heappush uses the first item in a tuple as the priority\n",
    "        \n",
    "        return -1\n",
    "\n",
    "times = [[2, 4, 4],[2,1,1],[2,3,2],[3,4,1]]\n",
    "n = 4\n",
    "k = 2\n",
    "Solution().networkDelayTime(times, n, k)"
   ]
  },
  {
   "cell_type": "code",
   "execution_count": null,
   "id": "963d6df2-2379-4489-9cc4-7e73a7d9579a",
   "metadata": {},
   "outputs": [],
   "source": [
    "# Note: Did you notice that I didn't pass anything into the function dijkstra?\n",
    "\n",
    "# we will revisit that soon"
   ]
  },
  {
   "cell_type": "code",
   "execution_count": 50,
   "id": "26a827ff-9500-41f0-8ccd-2839e26e6b78",
   "metadata": {},
   "outputs": [
    {
     "name": "stdout",
     "output_type": "stream",
     "text": [
      "[(3, 3), (4, 2), (2, 2), (3, 1)]\n"
     ]
    }
   ],
   "source": [
    "# get all neighbors (often it ignores the diagonal neighbor)\n",
    "\n",
    "def get_neighbors(x, y, N, M):\n",
    "    neighbors = []\n",
    "    for ni, nj in (x, y + 1), (x + 1, y), (x - 1, y), (x, y - 1):\n",
    "        if 0 <= ni < N and 0 <= nj < M:\n",
    "            neighbors.append( (ni, nj) )\n",
    "    return neighbors\n",
    "\n",
    "print(get_neighbors(3, 2, 10, 12))"
   ]
  },
  {
   "cell_type": "code",
   "execution_count": 51,
   "id": "0e421153-b7b1-4a95-877b-ad9e908463ac",
   "metadata": {},
   "outputs": [
    {
     "name": "stdout",
     "output_type": "stream",
     "text": [
      "I found a 1!\n"
     ]
    }
   ],
   "source": [
    "# Python will closure your variables for you by \n",
    "\n",
    "def search(i, j):\n",
    "    neighbors = get_neighbors(i, j, len(graph), len(graph[0]))\n",
    "    \n",
    "    for ni, nj in neighbors:\n",
    "        if graph[ni][nj] == \"1\":\n",
    "            print(\"I found a 1!\")\n",
    "\n",
    "graph = [\n",
    "    [\"1\", \"0\", \"0\", \"0\", \"0\", \"0\"], \n",
    "    [\"1\", \"0\", \"0\", \"0\", \"0\", \"0\"], \n",
    "    [\"1\", \"0\", \"0\", \"0\", \"1\", \"0\"], \n",
    "    [\"1\", \"0\", \"0\", \"0\", \"1\", \"1\"], \n",
    "    [\"1\", \"0\", \"0\", \"0\", \"0\", \"0\"], \n",
    "]\n",
    "\n",
    "search(0, 0)"
   ]
  },
  {
   "cell_type": "code",
   "execution_count": 58,
   "id": "6e08b969-b89d-4be3-8093-57f5ccbe6a00",
   "metadata": {},
   "outputs": [
    {
     "name": "stdout",
     "output_type": "stream",
     "text": [
      "0\n",
      "1\n"
     ]
    }
   ],
   "source": [
    "def get_neighbors_generator(x, y, N, M):\n",
    "    for ni, nj in (x, y + 1), (x + 1, y), (x - 1, y), (x, y - 1):\n",
    "        if 0 <= ni < N and 0 <= nj < M:\n",
    "            yield (ni, nj)\n",
    "\n",
    "for ni, nj in get_neighbors_generator(0, 0, len(graph), len(graph[0])):\n",
    "    print(graph[ni][nj])\n"
   ]
  },
  {
   "cell_type": "code",
   "execution_count": null,
   "id": "1020c926-cd10-4038-8aac-9854f4004320",
   "metadata": {},
   "outputs": [],
   "source": []
  }
 ],
 "metadata": {
  "kernelspec": {
   "display_name": "Python 3 (ipykernel)",
   "language": "python",
   "name": "python3"
  },
  "language_info": {
   "codemirror_mode": {
    "name": "ipython",
    "version": 3
   },
   "file_extension": ".py",
   "mimetype": "text/x-python",
   "name": "python",
   "nbconvert_exporter": "python",
   "pygments_lexer": "ipython3",
   "version": "3.12.3"
  }
 },
 "nbformat": 4,
 "nbformat_minor": 5
}
