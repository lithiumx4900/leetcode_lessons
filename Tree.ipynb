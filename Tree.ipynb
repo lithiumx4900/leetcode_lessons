{
 "cells": [
  {
   "cell_type": "code",
   "execution_count": null,
   "id": "100fd058-ab46-4927-a17b-1740b2691ad0",
   "metadata": {},
   "outputs": [],
   "source": [
    "# Representation of a tree"
   ]
  },
  {
   "cell_type": "code",
   "execution_count": 1,
   "id": "15269f02-1a06-44db-8e11-17ac545971b9",
   "metadata": {},
   "outputs": [],
   "source": [
    "class TreeNode:\n",
    "    def __init__(self, val=0, left=None, right=None):\n",
    "        self.val = val\n",
    "        self.left = left\n",
    "        self.right = right"
   ]
  },
  {
   "cell_type": "code",
   "execution_count": 4,
   "id": "e71ecee1-df70-46d1-8518-7014d5d4e8c1",
   "metadata": {},
   "outputs": [],
   "source": [
    "# input comes as a form of a list. You do not need to parse these in leetcodes\n",
    "nodes = [1,2,2,None,3,None,3]"
   ]
  },
  {
   "cell_type": "code",
   "execution_count": 7,
   "id": "a8b5a710-142f-4b1b-a8cb-684ac6f04a41",
   "metadata": {},
   "outputs": [],
   "source": [
    "root = TreeNode(nodes[0])\n",
    "root.left = TreeNode(nodes[1])\n",
    "root.right = TreeNode(nodes[2])\n",
    "root.left.left = TreeNode(nodes[3])\n",
    "root.left.right = TreeNode(nodes[4])\n",
    "root.right.left = TreeNode(nodes[5])\n",
    "root.right.right = TreeNode(nodes[6])\n"
   ]
  },
  {
   "cell_type": "code",
   "execution_count": 9,
   "id": "75681a78-3f23-41ac-9e8e-997af38651be",
   "metadata": {},
   "outputs": [
    {
     "data": {
      "text/plain": [
       "[1, 2, None, 3, 2, None, 3]"
      ]
     },
     "execution_count": 9,
     "metadata": {},
     "output_type": "execute_result"
    }
   ],
   "source": [
    "def iterate_tree_inorder(node):\n",
    "    if not node:\n",
    "        return []\n",
    "    results = []\n",
    "    results.append(node.val)\n",
    "    results = results + iterate_tree(node.left)\n",
    "    results = results + iterate_tree(node.right)\n",
    "    return results\n",
    "iterate_tree(root)\n",
    "    \n",
    "    "
   ]
  },
  {
   "cell_type": "code",
   "execution_count": 10,
   "id": "25b4b826-0f99-4043-9e78-fb22575eca7b",
   "metadata": {},
   "outputs": [
    {
     "data": {
      "text/plain": [
       "[1, 2, None, 3, 2, None, 3]"
      ]
     },
     "execution_count": 10,
     "metadata": {},
     "output_type": "execute_result"
    }
   ],
   "source": [
    "def iterate_tree_preorder(node):\n",
    "    if not node:\n",
    "        return []\n",
    "    results = []\n",
    "    results = results + iterate_tree(node.left)\n",
    "    results.append(node.val)\n",
    "    results = results + iterate_tree(node.right)\n",
    "    return results\n",
    "iterate_tree(root)\n",
    "    \n",
    "    "
   ]
  },
  {
   "cell_type": "code",
   "execution_count": 11,
   "id": "e853d3aa-454e-4367-bfaf-3ec92ca19b03",
   "metadata": {},
   "outputs": [
    {
     "data": {
      "text/plain": [
       "[1, 2, None, 3, 2, None, 3]"
      ]
     },
     "execution_count": 11,
     "metadata": {},
     "output_type": "execute_result"
    }
   ],
   "source": [
    "def iterate_tree_postorder(node):\n",
    "    if not node:\n",
    "        return []\n",
    "    results = []\n",
    "    results = results + iterate_tree(node.left)\n",
    "    results = results + iterate_tree(node.right)\n",
    "    results.append(node.val)\n",
    "    return results\n",
    "iterate_tree(root)\n",
    "    \n",
    "    "
   ]
  }
 ],
 "metadata": {
  "kernelspec": {
   "display_name": "Python 3 (ipykernel)",
   "language": "python",
   "name": "python3"
  },
  "language_info": {
   "codemirror_mode": {
    "name": "ipython",
    "version": 3
   },
   "file_extension": ".py",
   "mimetype": "text/x-python",
   "name": "python",
   "nbconvert_exporter": "python",
   "pygments_lexer": "ipython3",
   "version": "3.12.3"
  }
 },
 "nbformat": 4,
 "nbformat_minor": 5
}
